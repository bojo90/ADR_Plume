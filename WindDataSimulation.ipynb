{
 "cells": [
  {
   "cell_type": "code",
   "execution_count": 2,
   "metadata": {},
   "outputs": [
    {
     "data": {
      "image/png": "[encoded data removed]",
      "text/plain": [
       "<matplotlib.figure.Figure at 0x7f827c44e860>"
      ]
     },
     "metadata": {
      "needs_background": "light"
     },
     "output_type": "display_data"
    }
   ],
   "source": [
    "#__bojo90__\n",
    "\n",
    "import matplotlib.pyplot as plt\n",
    "import numpy as np\n",
    "import h5py\n",
    "\n",
    "\n",
    "def WindData_x(x):\n",
    "    x = (4*np.sin(x+4)*np.cos(x+2)) \n",
    "    return x\n",
    "    \n",
    "def WindData_y(y):\n",
    "    y = 5 + np.cos(y) + np.sin(y)\n",
    "    return y\n",
    "    \n",
    "time = np.arange(0, 51090, 1)\n",
    "plt.plot(time, WindData_x(time))\n",
    "\n",
    "# create HDF5 file \n",
    "hdf = h5py.File('/home/chibuikem/ADR_plume/wind-data/wind_data24.h5', 'w')\n",
    "\n",
    "#create groups\n",
    "G1 = hdf.create_group('Vector')\n",
    "G1.create_dataset('0', data = WindData_x(time))\n",
    "        \n",
    "# set attributes\n",
    "G1.attrs['partition'] = '0'\n",
    "G1.attrs['time'] = '0.001'\n",
    "\n",
    "hdf.close()\n",
    "\n",
    "\n",
    "\n",
    "\n",
    "\n"
   ]
  },
  {
   "cell_type": "code",
   "execution_count": null,
   "metadata": {},
   "outputs": [],
   "source": []
  },
  {
   "cell_type": "code",
   "execution_count": null,
   "metadata": {},
   "outputs": [],
   "source": []
  }
 ],
 "metadata": {
  "kernelspec": {
   "display_name": "Python 3",
   "language": "python",
   "name": "python3"
  },
  "language_info": {
   "codemirror_mode": {
    "name": "ipython",
    "version": 3
   },
   "file_extension": ".py",
   "mimetype": "text/x-python",
   "name": "python",
   "nbconvert_exporter": "python",
   "pygments_lexer": "ipython3",
   "version": "3.6.6"
  }
 },
 "nbformat": 4,
 "nbformat_minor": 2
}
